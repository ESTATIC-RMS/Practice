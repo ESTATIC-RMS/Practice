{
 "cells": [
  {
   "cell_type": "code",
   "execution_count": 4,
   "id": "007d12de-7572-489b-893c-99b6e8c169af",
   "metadata": {},
   "outputs": [],
   "source": [
    "import pandas as pd\n",
    "import numpy as np\n",
    "import matplotlib.pyplot as plt\n",
    "import seaborn as sns"
   ]
  },
  {
   "cell_type": "code",
   "execution_count": 8,
   "id": "af84a4f6-c682-4b48-ac5f-63210b733a31",
   "metadata": {},
   "outputs": [],
   "source": [
    "from sklearn.model_selection import train_test_split\n",
    "from sklearn.linear_model import LinearRegression\n",
    "from sklearn.preprocessing import StandardScaler\n",
    "from sklearn.metrics import mean_squared_error, r2_score"
   ]
  },
  {
   "cell_type": "code",
   "execution_count": null,
   "id": "c2b4f818-a2bd-4120-bcf4-1f6bbb5d7a47",
   "metadata": {},
   "outputs": [],
   "source": [
    "import warnings\n",
    "warnings.filterwarnings('ignore')\n",
    "\n",
    "# 2. Load Dataset\n",
    "df = pd.read_csv(\"train.csv\")\n",
    "print(\"Shape:\", df.shape)\n",
    "print(\"Columns:\\n\", df.columns)"
   ]
  },
  {
   "cell_type": "code",
   "execution_count": null,
   "id": "4f1863ed-bbf3-4471-a68f-576fdbad2d4b",
   "metadata": {},
   "outputs": [],
   "source": [
    "# 3. EDA - Target Variable\n",
    "plt.figure(figsize=(8,5))\n",
    "sns.histplot(df['SalePrice'], kde=True)\n",
    "plt.title(\"Distribution of House Prices\")\n",
    "plt.show()\n",
    "\n",
    "# 4. Correlation with target\n",
    "corr = df.corr(numeric_only=True)['SalePrice'].sort_values(ascending=False)\n",
    "print(\"\\nTop correlated features with SalePrice:\\n\", corr.head(10))\n",
    "\n",
    "# Visualize top features\n",
    "top_features = corr.index[1:6]  # skip 'SalePrice' itself\n",
    "sns.pairplot(df[top_features.to_list() + ['SalePrice']])\n",
    "plt.suptitle(\"Pairplot of Top Correlated Features\", y=1.02)\n",
    "plt.show()\n",
    "\n",
    "# 5. Data Preprocessing\n",
    "# Selecting top numerical features\n",
    "selected_features = ['OverallQual', 'GrLivArea', 'GarageCars', 'GarageArea', 'TotalBsmtSF']\n",
    "X = df[selected_features]\n",
    "y = df['SalePrice']\n",
    "\n",
    "# Fill missing values if any\n",
    "X = X.fillna(X.mean())\n",
    "\n",
    "# Feature Scaling\n",
    "scaler = StandardScaler()\n",
    "X_scaled = scaler.fit_transform(X)\n",
    "\n",
    "# 6. Train-Test Split\n",
    "X_train, X_test, y_train, y_test = train_test_split(X_scaled, y, test_size=0.2, random_state=42)\n",
    "\n",
    "# 7. Linear Regression\n",
    "lr = LinearRegression()\n",
    "lr.fit(X_train, y_train)\n",
    "\n",
    "# 8. Evaluation\n",
    "y_pred = lr.predict(X_test)\n",
    "mse = mean_squared_error(y_test, y_pred)\n",
    "r2 = r2_score(y_test, y_pred)\n",
    "\n",
    "print(\"\\nModel Evaluation:\")\n",
    "print(\"Mean Squared Error:\", mse)\n",
    "print(\"R-squared:\", r2)\n",
    "\n",
    "# 9. Coefficients\n",
    "coeff_df = pd.DataFrame(lr.coef_, selected_features, columns=['Coefficient'])\n",
    "print(\"\\nModel Coefficients:\\n\", coeff_df)\n",
    "\n",
    "# 10. Plot: Actual vs Predicted\n",
    "plt.figure(figsize=(6,6))\n",
    "plt.scatter(y_test, y_pred, alpha=0.7)\n",
    "plt.xlabel(\"Actual Price\")\n",
    "plt.ylabel(\"Predicted Price\")\n",
    "plt.title(\"Actual vs Predicted House Prices\")\n",
    "plt.plot([min(y_test), max(y_test)], [min(y_test), max(y_test)], color='red')  # reference line\n",
    "plt.grid(True)\n",
    "plt.show()"
   ]
  }
 ],
 "metadata": {
  "kernelspec": {
   "display_name": "Python [conda env:base] *",
   "language": "python",
   "name": "conda-base-py"
  },
  "language_info": {
   "codemirror_mode": {
    "name": "ipython",
    "version": 3
   },
   "file_extension": ".py",
   "mimetype": "text/x-python",
   "name": "python",
   "nbconvert_exporter": "python",
   "pygments_lexer": "ipython3",
   "version": "3.12.7"
  }
 },
 "nbformat": 4,
 "nbformat_minor": 5
}
