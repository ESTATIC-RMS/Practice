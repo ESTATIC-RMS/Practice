{
 "cells": [
  {
   "cell_type": "code",
   "execution_count": 2,
   "id": "d5cd4351-ddf7-48d8-9e52-dc6fa00fef6c",
   "metadata": {},
   "outputs": [],
   "source": [
    "import tensorflow as tf\n",
    "from tensorflow.keras.datasets import mnist\n",
    "from tensorflow.keras.models import Sequential\n",
    "from tensorflow.keras.layers import Dense, Flatten\n",
    "from tensorflow.keras.utils import to_categorical"
   ]
  },
  {
   "cell_type": "code",
   "execution_count": 4,
   "id": "df7e42e9-153d-4bda-8ecd-d1e9adf9a24a",
   "metadata": {},
   "outputs": [],
   "source": [
    "(x_train, y_train), (x_test, y_test) = mnist.load_data()"
   ]
  },
  {
   "cell_type": "code",
   "execution_count": 6,
   "id": "2017cbef-31c1-455e-a170-a190cda8c851",
   "metadata": {},
   "outputs": [],
   "source": [
    "# 2. Normalize the pixel values to [0, 1]\n",
    "x_train = x_train / 255.0\n",
    "x_test = x_test / 255.0\n"
   ]
  },
  {
   "cell_type": "code",
   "execution_count": 8,
   "id": "9b6cc020-bd56-4091-99e7-292fd8150517",
   "metadata": {},
   "outputs": [],
   "source": [
    "# 3. One-hot encode the labels\n",
    "y_train = to_categorical(y_train, 10)\n",
    "y_test = to_categorical(y_test, 10)"
   ]
  },
  {
   "cell_type": "code",
   "execution_count": 10,
   "id": "a44dec01-9156-4187-be4b-bec783073eb0",
   "metadata": {},
   "outputs": [
    {
     "name": "stderr",
     "output_type": "stream",
     "text": [
      "C:\\Users\\sharj\\AppData\\Roaming\\Python\\Python312\\site-packages\\keras\\src\\layers\\reshaping\\flatten.py:37: UserWarning: Do not pass an `input_shape`/`input_dim` argument to a layer. When using Sequential models, prefer using an `Input(shape)` object as the first layer in the model instead.\n",
      "  super().__init__(**kwargs)\n"
     ]
    }
   ],
   "source": [
    "model = Sequential([\n",
    "Flatten(input_shape=(28, 28)), # Flatten 28x28 images into 784 input neurons\n",
    "Dense(128, activation='relu'), # Hidden layer with 128 neurons\n",
    "Dense(64, activation='relu'), # Another hidden layer\n",
    "Dense(10, activation='softmax') # Output layer with 10 classes (digits 0-9)\n",
    "])"
   ]
  },
  {
   "cell_type": "code",
   "execution_count": 12,
   "id": "e161e077-6f5f-48fa-b65b-049b2766de88",
   "metadata": {},
   "outputs": [],
   "source": [
    "model.compile(optimizer='adam',\n",
    "\n",
    "loss='categorical_crossentropy',\n",
    "metrics=['accuracy'])"
   ]
  },
  {
   "cell_type": "code",
   "execution_count": 14,
   "id": "9a86fe92-9cf7-4745-b2b4-949ab1680010",
   "metadata": {},
   "outputs": [
    {
     "name": "stdout",
     "output_type": "stream",
     "text": [
      "Epoch 1/5\n",
      "\u001b[1m1500/1500\u001b[0m \u001b[32m━━━━━━━━━━━━━━━━━━━━\u001b[0m\u001b[37m\u001b[0m \u001b[1m24s\u001b[0m 14ms/step - accuracy: 0.8594 - loss: 0.4804 - val_accuracy: 0.9588 - val_loss: 0.1364\n",
      "Epoch 2/5\n",
      "\u001b[1m1500/1500\u001b[0m \u001b[32m━━━━━━━━━━━━━━━━━━━━\u001b[0m\u001b[37m\u001b[0m \u001b[1m20s\u001b[0m 13ms/step - accuracy: 0.9654 - loss: 0.1148 - val_accuracy: 0.9655 - val_loss: 0.1138\n",
      "Epoch 3/5\n",
      "\u001b[1m1500/1500\u001b[0m \u001b[32m━━━━━━━━━━━━━━━━━━━━\u001b[0m\u001b[37m\u001b[0m \u001b[1m20s\u001b[0m 13ms/step - accuracy: 0.9791 - loss: 0.0716 - val_accuracy: 0.9687 - val_loss: 0.1069\n",
      "Epoch 4/5\n",
      "\u001b[1m1500/1500\u001b[0m \u001b[32m━━━━━━━━━━━━━━━━━━━━\u001b[0m\u001b[37m\u001b[0m \u001b[1m22s\u001b[0m 14ms/step - accuracy: 0.9826 - loss: 0.0548 - val_accuracy: 0.9730 - val_loss: 0.0936\n",
      "Epoch 5/5\n",
      "\u001b[1m1500/1500\u001b[0m \u001b[32m━━━━━━━━━━━━━━━━━━━━\u001b[0m\u001b[37m\u001b[0m \u001b[1m19s\u001b[0m 12ms/step - accuracy: 0.9870 - loss: 0.0411 - val_accuracy: 0.9736 - val_loss: 0.0994\n"
     ]
    },
    {
     "data": {
      "text/plain": [
       "<keras.src.callbacks.history.History at 0x2dcf6055be0>"
      ]
     },
     "execution_count": 14,
     "metadata": {},
     "output_type": "execute_result"
    }
   ],
   "source": [
    "model.fit(x_train, y_train, epochs=5, batch_size=32, validation_split=0.2)"
   ]
  },
  {
   "cell_type": "code",
   "execution_count": 20,
   "id": "8f0e64c2-38d0-4b4a-a47f-5b4e50998a78",
   "metadata": {},
   "outputs": [
    {
     "name": "stdout",
     "output_type": "stream",
     "text": [
      "\u001b[1m313/313\u001b[0m \u001b[32m━━━━━━━━━━━━━━━━━━━━\u001b[0m\u001b[37m\u001b[0m \u001b[1m2s\u001b[0m 6ms/step - accuracy: 0.9707 - loss: 0.1037\n",
      "Test Accuracy: 0.9740\n"
     ]
    }
   ],
   "source": [
    "test_loss, test_accuracy = model.evaluate(x_test, y_test)\n",
    "print(f\"Test Accuracy: {test_accuracy:.4f}\")"
   ]
  },
  {
   "cell_type": "code",
   "execution_count": 22,
   "id": "cb8c930b-6d2d-4633-af03-71b738da9f5a",
   "metadata": {},
   "outputs": [],
   "source": [
    "import numpy as np\n",
    "import matplotlib.pyplot as plt"
   ]
  },
  {
   "cell_type": "code",
   "execution_count": 24,
   "id": "e69b706f-48fb-4439-b8c3-d5f7a8525228",
   "metadata": {},
   "outputs": [],
   "source": [
    "# Pick one image from the test set\n",
    "index = 0 # you can change this to test different images\n",
    "image = x_test[index]"
   ]
  },
  {
   "cell_type": "code",
   "execution_count": 26,
   "id": "889d2644-d4ff-4f09-9c2f-8dc1ea289602",
   "metadata": {},
   "outputs": [
    {
     "data": {
      "image/png": "[encoded data removed]",
      "text/plain": [
       "<Figure size 640x480 with 1 Axes>"
      ]
     },
     "metadata": {},
     "output_type": "display_data"
    }
   ],
   "source": [
    "# Show the image\n",
    "plt.imshow(image, cmap='gray')\n",
    "plt.title(\"Input Image\")\n",
    "plt.axis('off')\n",
    "plt.show()"
   ]
  },
  {
   "cell_type": "code",
   "execution_count": 28,
   "id": "a66a98dc-1f43-4c7a-836a-58f41dbc14b1",
   "metadata": {},
   "outputs": [],
   "source": [
    "# Prepare the image for prediction (reshape and scale if needed)\n",
    "image_reshaped = image.reshape(1, 28, 28) # Shape: (1, 28, 28)"
   ]
  },
  {
   "cell_type": "code",
   "execution_count": 34,
   "id": "6bce4533-7f5a-4ea2-b075-631d709d7536",
   "metadata": {},
   "outputs": [
    {
     "name": "stdout",
     "output_type": "stream",
     "text": [
      "\u001b[1m1/1\u001b[0m \u001b[32m━━━━━━━━━━━━━━━━━━━━\u001b[0m\u001b[37m\u001b[0m \u001b[1m0s\u001b[0m 113ms/step\n",
      "[[2.5084784e-08 1.2200585e-08 6.7389765e-06 2.9840687e-05 4.2642286e-11\n",
      "  5.8565687e-11 1.7891342e-13 9.9995697e-01 2.4336762e-08 6.4523801e-06]]\n",
      "Predicted digit: 7\n"
     ]
    }
   ],
   "source": [
    "# Predict the class\n",
    "predicted_probabilities = model.predict(image_reshaped)\n",
    "print(predicted_probabilities)\n",
    "predicted_class = np.argmax(predicted_probabilities)\n",
    "print(f\"Predicted digit: {predicted_class}\")"
   ]
  },
  {
   "cell_type": "code",
   "execution_count": null,
   "id": "4335eaaf-5eca-4a29-9b31-9868bbcb9477",
   "metadata": {},
   "outputs": [],
   "source": []
  }
 ],
 "metadata": {
  "kernelspec": {
   "display_name": "Python [conda env:base] *",
   "language": "python",
   "name": "conda-base-py"
  },
  "language_info": {
   "codemirror_mode": {
    "name": "ipython",
    "version": 3
   },
   "file_extension": ".py",
   "mimetype": "text/x-python",
   "name": "python",
   "nbconvert_exporter": "python",
   "pygments_lexer": "ipython3",
   "version": "3.12.7"
  }
 },
 "nbformat": 4,
 "nbformat_minor": 5
}
